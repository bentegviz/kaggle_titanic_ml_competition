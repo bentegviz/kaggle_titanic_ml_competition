{
 "cells": [
  {
   "cell_type": "markdown",
   "id": "handed-green",
   "metadata": {
    "papermill": {
     "duration": 0.045599,
     "end_time": "2021-06-03T19:18:51.044655",
     "exception": false,
     "start_time": "2021-06-03T19:18:50.999056",
     "status": "completed"
    },
    "tags": []
   },
   "source": [
    "***Titanic Disaster Survival***"
   ]
  },
  {
   "cell_type": "markdown",
   "id": "unlimited-graduation",
   "metadata": {
    "papermill": {
     "duration": 0.044574,
     "end_time": "2021-06-03T19:18:51.133734",
     "exception": false,
     "start_time": "2021-06-03T19:18:51.089160",
     "status": "completed"
    },
    "tags": []
   },
   "source": [
    "**Import Libraries**"
   ]
  },
  {
   "cell_type": "code",
   "execution_count": 1,
   "id": "bigger-contact",
   "metadata": {
    "_cell_guid": "b1076dfc-b9ad-4769-8c92-a6c4dae69d19",
    "_uuid": "8f2839f25d086af736a60e9eeb907d3b93b6e0e5",
    "execution": {
     "iopub.execute_input": "2021-06-03T19:18:51.232876Z",
     "iopub.status.busy": "2021-06-03T19:18:51.232081Z",
     "iopub.status.idle": "2021-06-03T19:18:52.115449Z",
     "shell.execute_reply": "2021-06-03T19:18:52.116040Z",
     "shell.execute_reply.started": "2021-06-03T18:19:14.618829Z"
    },
    "papermill": {
     "duration": 0.938181,
     "end_time": "2021-06-03T19:18:52.116388",
     "exception": false,
     "start_time": "2021-06-03T19:18:51.178207",
     "status": "completed"
    },
    "tags": []
   },
   "outputs": [
    {
     "name": "stdout",
     "output_type": "stream",
     "text": [
      "/kaggle/input/titanic/train.csv\n",
      "/kaggle/input/titanic/test.csv\n",
      "/kaggle/input/titanic/gender_submission.csv\n"
     ]
    }
   ],
   "source": [
    "# This Python 3 environment comes with many helpful analytics libraries installed\n",
    "# It is defined by the kaggle/python Docker image: https://github.com/kaggle/docker-python\n",
    "# For example, here's several helpful packages to load\n",
    "\n",
    "import numpy as np # linear algebra\n",
    "import pandas as pd # data processing, CSV file I/O (e.g. pd.read_csv)\n",
    "import seaborn as sns\n",
    "import matplotlib.pyplot as plt\n",
    "\n",
    "# Input data files are available in the read-only \"../input/\" directory\n",
    "# For example, running this (by clicking run or pressing Shift+Enter) will list all files under the input directory\n",
    "\n",
    "import os\n",
    "for dirname, _, filenames in os.walk('/kaggle/input'):\n",
    "    for filename in filenames:\n",
    "        print(os.path.join(dirname, filename))\n",
    "\n",
    "# You can write up to 20GB to the current directory (/kaggle/working/) that gets preserved as output when you create a version using \"Save & Run All\" \n",
    "# You can also write temporary files to /kaggle/temp/, but they won't be saved outside of the current session"
   ]
  },
  {
   "cell_type": "markdown",
   "id": "inappropriate-vacation",
   "metadata": {
    "papermill": {
     "duration": 0.04191,
     "end_time": "2021-06-03T19:18:52.202170",
     "exception": false,
     "start_time": "2021-06-03T19:18:52.160260",
     "status": "completed"
    },
    "tags": []
   },
   "source": [
    "**Load Data using Pandas**"
   ]
  },
  {
   "cell_type": "code",
   "execution_count": 2,
   "id": "gothic-mongolia",
   "metadata": {
    "execution": {
     "iopub.execute_input": "2021-06-03T19:18:52.293120Z",
     "iopub.status.busy": "2021-06-03T19:18:52.292464Z",
     "iopub.status.idle": "2021-06-03T19:18:52.310612Z",
     "shell.execute_reply": "2021-06-03T19:18:52.309945Z",
     "shell.execute_reply.started": "2021-06-03T18:19:15.438475Z"
    },
    "papermill": {
     "duration": 0.06574,
     "end_time": "2021-06-03T19:18:52.310799",
     "exception": false,
     "start_time": "2021-06-03T19:18:52.245059",
     "status": "completed"
    },
    "tags": []
   },
   "outputs": [
    {
     "name": "stdout",
     "output_type": "stream",
     "text": [
      "Import Complete\n"
     ]
    }
   ],
   "source": [
    "# Import Train CSV file as Titanic Data Frame\n",
    "titanic_data = pd.read_csv('../input/titanic/train.csv')\n",
    "print(\"Import Complete\")"
   ]
  },
  {
   "cell_type": "markdown",
   "id": "muslim-circle",
   "metadata": {
    "papermill": {
     "duration": 0.04181,
     "end_time": "2021-06-03T19:18:52.395645",
     "exception": false,
     "start_time": "2021-06-03T19:18:52.353835",
     "status": "completed"
    },
    "tags": []
   },
   "source": [
    "**Data Exploration using Pandas**"
   ]
  },
  {
   "cell_type": "code",
   "execution_count": 3,
   "id": "pediatric-terminal",
   "metadata": {
    "execution": {
     "iopub.execute_input": "2021-06-03T19:18:52.491802Z",
     "iopub.status.busy": "2021-06-03T19:18:52.490990Z",
     "iopub.status.idle": "2021-06-03T19:18:52.516383Z",
     "shell.execute_reply": "2021-06-03T19:18:52.515876Z",
     "shell.execute_reply.started": "2021-06-03T18:19:15.459510Z"
    },
    "papermill": {
     "duration": 0.078671,
     "end_time": "2021-06-03T19:18:52.516522",
     "exception": false,
     "start_time": "2021-06-03T19:18:52.437851",
     "status": "completed"
    },
    "tags": []
   },
   "outputs": [
    {
     "data": {
      "text/html": [
       "<div>\n",
       "<style scoped>\n",
       "    .dataframe tbody tr th:only-of-type {\n",
       "        vertical-align: middle;\n",
       "    }\n",
       "\n",
       "    .dataframe tbody tr th {\n",
       "        vertical-align: top;\n",
       "    }\n",
       "\n",
       "    .dataframe thead th {\n",
       "        text-align: right;\n",
       "    }\n",
       "</style>\n",
       "<table border=\"1\" class=\"dataframe\">\n",
       "  <thead>\n",
       "    <tr style=\"text-align: right;\">\n",
       "      <th></th>\n",
       "      <th>PassengerId</th>\n",
       "      <th>Survived</th>\n",
       "      <th>Pclass</th>\n",
       "      <th>Name</th>\n",
       "      <th>Sex</th>\n",
       "      <th>Age</th>\n",
       "      <th>SibSp</th>\n",
       "      <th>Parch</th>\n",
       "      <th>Ticket</th>\n",
       "      <th>Fare</th>\n",
       "      <th>Cabin</th>\n",
       "      <th>Embarked</th>\n",
       "    </tr>\n",
       "  </thead>\n",
       "  <tbody>\n",
       "    <tr>\n",
       "      <th>0</th>\n",
       "      <td>1</td>\n",
       "      <td>0</td>\n",
       "      <td>3</td>\n",
       "      <td>Braund, Mr. Owen Harris</td>\n",
       "      <td>male</td>\n",
       "      <td>22.0</td>\n",
       "      <td>1</td>\n",
       "      <td>0</td>\n",
       "      <td>A/5 21171</td>\n",
       "      <td>7.2500</td>\n",
       "      <td>NaN</td>\n",
       "      <td>S</td>\n",
       "    </tr>\n",
       "    <tr>\n",
       "      <th>1</th>\n",
       "      <td>2</td>\n",
       "      <td>1</td>\n",
       "      <td>1</td>\n",
       "      <td>Cumings, Mrs. John Bradley (Florence Briggs Th...</td>\n",
       "      <td>female</td>\n",
       "      <td>38.0</td>\n",
       "      <td>1</td>\n",
       "      <td>0</td>\n",
       "      <td>PC 17599</td>\n",
       "      <td>71.2833</td>\n",
       "      <td>C85</td>\n",
       "      <td>C</td>\n",
       "    </tr>\n",
       "    <tr>\n",
       "      <th>2</th>\n",
       "      <td>3</td>\n",
       "      <td>1</td>\n",
       "      <td>3</td>\n",
       "      <td>Heikkinen, Miss. Laina</td>\n",
       "      <td>female</td>\n",
       "      <td>26.0</td>\n",
       "      <td>0</td>\n",
       "      <td>0</td>\n",
       "      <td>STON/O2. 3101282</td>\n",
       "      <td>7.9250</td>\n",
       "      <td>NaN</td>\n",
       "      <td>S</td>\n",
       "    </tr>\n",
       "    <tr>\n",
       "      <th>3</th>\n",
       "      <td>4</td>\n",
       "      <td>1</td>\n",
       "      <td>1</td>\n",
       "      <td>Futrelle, Mrs. Jacques Heath (Lily May Peel)</td>\n",
       "      <td>female</td>\n",
       "      <td>35.0</td>\n",
       "      <td>1</td>\n",
       "      <td>0</td>\n",
       "      <td>113803</td>\n",
       "      <td>53.1000</td>\n",
       "      <td>C123</td>\n",
       "      <td>S</td>\n",
       "    </tr>\n",
       "    <tr>\n",
       "      <th>4</th>\n",
       "      <td>5</td>\n",
       "      <td>0</td>\n",
       "      <td>3</td>\n",
       "      <td>Allen, Mr. William Henry</td>\n",
       "      <td>male</td>\n",
       "      <td>35.0</td>\n",
       "      <td>0</td>\n",
       "      <td>0</td>\n",
       "      <td>373450</td>\n",
       "      <td>8.0500</td>\n",
       "      <td>NaN</td>\n",
       "      <td>S</td>\n",
       "    </tr>\n",
       "  </tbody>\n",
       "</table>\n",
       "</div>"
      ],
      "text/plain": [
       "   PassengerId  Survived  Pclass  \\\n",
       "0            1         0       3   \n",
       "1            2         1       1   \n",
       "2            3         1       3   \n",
       "3            4         1       1   \n",
       "4            5         0       3   \n",
       "\n",
       "                                                Name     Sex   Age  SibSp  \\\n",
       "0                            Braund, Mr. Owen Harris    male  22.0      1   \n",
       "1  Cumings, Mrs. John Bradley (Florence Briggs Th...  female  38.0      1   \n",
       "2                             Heikkinen, Miss. Laina  female  26.0      0   \n",
       "3       Futrelle, Mrs. Jacques Heath (Lily May Peel)  female  35.0      1   \n",
       "4                           Allen, Mr. William Henry    male  35.0      0   \n",
       "\n",
       "   Parch            Ticket     Fare Cabin Embarked  \n",
       "0      0         A/5 21171   7.2500   NaN        S  \n",
       "1      0          PC 17599  71.2833   C85        C  \n",
       "2      0  STON/O2. 3101282   7.9250   NaN        S  \n",
       "3      0            113803  53.1000  C123        S  \n",
       "4      0            373450   8.0500   NaN        S  "
      ]
     },
     "execution_count": 3,
     "metadata": {},
     "output_type": "execute_result"
    }
   ],
   "source": [
    "# Head (first 5 Rows) of Titanic Data Frame\n",
    "titanic_data.head()"
   ]
  },
  {
   "cell_type": "code",
   "execution_count": 4,
   "id": "lonely-wells",
   "metadata": {
    "execution": {
     "iopub.execute_input": "2021-06-03T19:18:52.610266Z",
     "iopub.status.busy": "2021-06-03T19:18:52.609586Z",
     "iopub.status.idle": "2021-06-03T19:18:52.614730Z",
     "shell.execute_reply": "2021-06-03T19:18:52.613748Z",
     "shell.execute_reply.started": "2021-06-03T18:19:15.493001Z"
    },
    "papermill": {
     "duration": 0.054661,
     "end_time": "2021-06-03T19:18:52.614901",
     "exception": false,
     "start_time": "2021-06-03T19:18:52.560240",
     "status": "completed"
    },
    "tags": []
   },
   "outputs": [
    {
     "data": {
      "text/plain": [
       "(891, 12)"
      ]
     },
     "execution_count": 4,
     "metadata": {},
     "output_type": "execute_result"
    }
   ],
   "source": [
    "# Shape of Titanic Data Frame (Rows, Columns)\n",
    "titanic_data.shape"
   ]
  },
  {
   "cell_type": "code",
   "execution_count": 5,
   "id": "baking-yorkshire",
   "metadata": {
    "execution": {
     "iopub.execute_input": "2021-06-03T19:18:52.708801Z",
     "iopub.status.busy": "2021-06-03T19:18:52.707905Z",
     "iopub.status.idle": "2021-06-03T19:18:52.712428Z",
     "shell.execute_reply": "2021-06-03T19:18:52.711905Z",
     "shell.execute_reply.started": "2021-06-03T18:19:15.499931Z"
    },
    "papermill": {
     "duration": 0.053629,
     "end_time": "2021-06-03T19:18:52.712577",
     "exception": false,
     "start_time": "2021-06-03T19:18:52.658948",
     "status": "completed"
    },
    "tags": []
   },
   "outputs": [
    {
     "data": {
      "text/plain": [
       "Index(['PassengerId', 'Survived', 'Pclass', 'Name', 'Sex', 'Age', 'SibSp',\n",
       "       'Parch', 'Ticket', 'Fare', 'Cabin', 'Embarked'],\n",
       "      dtype='object')"
      ]
     },
     "execution_count": 5,
     "metadata": {},
     "output_type": "execute_result"
    }
   ],
   "source": [
    "# Column Names for Titanic Data Frame\n",
    "titanic_data.columns"
   ]
  },
  {
   "cell_type": "code",
   "execution_count": 6,
   "id": "coordinated-sugar",
   "metadata": {
    "execution": {
     "iopub.execute_input": "2021-06-03T19:18:52.807812Z",
     "iopub.status.busy": "2021-06-03T19:18:52.806924Z",
     "iopub.status.idle": "2021-06-03T19:18:52.828579Z",
     "shell.execute_reply": "2021-06-03T19:18:52.828071Z",
     "shell.execute_reply.started": "2021-06-03T18:19:15.513921Z"
    },
    "papermill": {
     "duration": 0.07247,
     "end_time": "2021-06-03T19:18:52.828773",
     "exception": false,
     "start_time": "2021-06-03T19:18:52.756303",
     "status": "completed"
    },
    "tags": []
   },
   "outputs": [
    {
     "name": "stdout",
     "output_type": "stream",
     "text": [
      "<class 'pandas.core.frame.DataFrame'>\n",
      "RangeIndex: 891 entries, 0 to 890\n",
      "Data columns (total 12 columns):\n",
      " #   Column       Non-Null Count  Dtype  \n",
      "---  ------       --------------  -----  \n",
      " 0   PassengerId  891 non-null    int64  \n",
      " 1   Survived     891 non-null    int64  \n",
      " 2   Pclass       891 non-null    int64  \n",
      " 3   Name         891 non-null    object \n",
      " 4   Sex          891 non-null    object \n",
      " 5   Age          714 non-null    float64\n",
      " 6   SibSp        891 non-null    int64  \n",
      " 7   Parch        891 non-null    int64  \n",
      " 8   Ticket       891 non-null    object \n",
      " 9   Fare         891 non-null    float64\n",
      " 10  Cabin        204 non-null    object \n",
      " 11  Embarked     889 non-null    object \n",
      "dtypes: float64(2), int64(5), object(5)\n",
      "memory usage: 83.7+ KB\n"
     ]
    }
   ],
   "source": [
    "# Info for Titanic Data Frame\n",
    "titanic_data.info()"
   ]
  },
  {
   "cell_type": "code",
   "execution_count": 7,
   "id": "ruled-estate",
   "metadata": {
    "execution": {
     "iopub.execute_input": "2021-06-03T19:18:52.924699Z",
     "iopub.status.busy": "2021-06-03T19:18:52.924013Z",
     "iopub.status.idle": "2021-06-03T19:18:52.927826Z",
     "shell.execute_reply": "2021-06-03T19:18:52.928364Z",
     "shell.execute_reply.started": "2021-06-03T18:19:15.542383Z"
    },
    "papermill": {
     "duration": 0.055192,
     "end_time": "2021-06-03T19:18:52.928525",
     "exception": false,
     "start_time": "2021-06-03T19:18:52.873333",
     "status": "completed"
    },
    "tags": []
   },
   "outputs": [
    {
     "data": {
      "text/plain": [
       "PassengerId      int64\n",
       "Survived         int64\n",
       "Pclass           int64\n",
       "Name            object\n",
       "Sex             object\n",
       "Age            float64\n",
       "SibSp            int64\n",
       "Parch            int64\n",
       "Ticket          object\n",
       "Fare           float64\n",
       "Cabin           object\n",
       "Embarked        object\n",
       "dtype: object"
      ]
     },
     "execution_count": 7,
     "metadata": {},
     "output_type": "execute_result"
    }
   ],
   "source": [
    "# Data Types for Titanic Data Frame\n",
    "titanic_data.dtypes"
   ]
  },
  {
   "cell_type": "code",
   "execution_count": 8,
   "id": "northern-brook",
   "metadata": {
    "execution": {
     "iopub.execute_input": "2021-06-03T19:18:53.021384Z",
     "iopub.status.busy": "2021-06-03T19:18:53.020802Z",
     "iopub.status.idle": "2021-06-03T19:18:53.055766Z",
     "shell.execute_reply": "2021-06-03T19:18:53.056391Z",
     "shell.execute_reply.started": "2021-06-03T18:19:15.551670Z"
    },
    "papermill": {
     "duration": 0.083546,
     "end_time": "2021-06-03T19:18:53.056558",
     "exception": false,
     "start_time": "2021-06-03T19:18:52.973012",
     "status": "completed"
    },
    "tags": []
   },
   "outputs": [
    {
     "data": {
      "text/html": [
       "<div>\n",
       "<style scoped>\n",
       "    .dataframe tbody tr th:only-of-type {\n",
       "        vertical-align: middle;\n",
       "    }\n",
       "\n",
       "    .dataframe tbody tr th {\n",
       "        vertical-align: top;\n",
       "    }\n",
       "\n",
       "    .dataframe thead th {\n",
       "        text-align: right;\n",
       "    }\n",
       "</style>\n",
       "<table border=\"1\" class=\"dataframe\">\n",
       "  <thead>\n",
       "    <tr style=\"text-align: right;\">\n",
       "      <th></th>\n",
       "      <th>PassengerId</th>\n",
       "      <th>Survived</th>\n",
       "      <th>Pclass</th>\n",
       "      <th>Age</th>\n",
       "      <th>SibSp</th>\n",
       "      <th>Parch</th>\n",
       "      <th>Fare</th>\n",
       "    </tr>\n",
       "  </thead>\n",
       "  <tbody>\n",
       "    <tr>\n",
       "      <th>count</th>\n",
       "      <td>891.000000</td>\n",
       "      <td>891.000000</td>\n",
       "      <td>891.000000</td>\n",
       "      <td>714.000000</td>\n",
       "      <td>891.000000</td>\n",
       "      <td>891.000000</td>\n",
       "      <td>891.000000</td>\n",
       "    </tr>\n",
       "    <tr>\n",
       "      <th>mean</th>\n",
       "      <td>446.000000</td>\n",
       "      <td>0.383838</td>\n",
       "      <td>2.308642</td>\n",
       "      <td>29.699118</td>\n",
       "      <td>0.523008</td>\n",
       "      <td>0.381594</td>\n",
       "      <td>32.204208</td>\n",
       "    </tr>\n",
       "    <tr>\n",
       "      <th>std</th>\n",
       "      <td>257.353842</td>\n",
       "      <td>0.486592</td>\n",
       "      <td>0.836071</td>\n",
       "      <td>14.526497</td>\n",
       "      <td>1.102743</td>\n",
       "      <td>0.806057</td>\n",
       "      <td>49.693429</td>\n",
       "    </tr>\n",
       "    <tr>\n",
       "      <th>min</th>\n",
       "      <td>1.000000</td>\n",
       "      <td>0.000000</td>\n",
       "      <td>1.000000</td>\n",
       "      <td>0.420000</td>\n",
       "      <td>0.000000</td>\n",
       "      <td>0.000000</td>\n",
       "      <td>0.000000</td>\n",
       "    </tr>\n",
       "    <tr>\n",
       "      <th>25%</th>\n",
       "      <td>223.500000</td>\n",
       "      <td>0.000000</td>\n",
       "      <td>2.000000</td>\n",
       "      <td>20.125000</td>\n",
       "      <td>0.000000</td>\n",
       "      <td>0.000000</td>\n",
       "      <td>7.910400</td>\n",
       "    </tr>\n",
       "    <tr>\n",
       "      <th>50%</th>\n",
       "      <td>446.000000</td>\n",
       "      <td>0.000000</td>\n",
       "      <td>3.000000</td>\n",
       "      <td>28.000000</td>\n",
       "      <td>0.000000</td>\n",
       "      <td>0.000000</td>\n",
       "      <td>14.454200</td>\n",
       "    </tr>\n",
       "    <tr>\n",
       "      <th>75%</th>\n",
       "      <td>668.500000</td>\n",
       "      <td>1.000000</td>\n",
       "      <td>3.000000</td>\n",
       "      <td>38.000000</td>\n",
       "      <td>1.000000</td>\n",
       "      <td>0.000000</td>\n",
       "      <td>31.000000</td>\n",
       "    </tr>\n",
       "    <tr>\n",
       "      <th>max</th>\n",
       "      <td>891.000000</td>\n",
       "      <td>1.000000</td>\n",
       "      <td>3.000000</td>\n",
       "      <td>80.000000</td>\n",
       "      <td>8.000000</td>\n",
       "      <td>6.000000</td>\n",
       "      <td>512.329200</td>\n",
       "    </tr>\n",
       "  </tbody>\n",
       "</table>\n",
       "</div>"
      ],
      "text/plain": [
       "       PassengerId    Survived      Pclass         Age       SibSp  \\\n",
       "count   891.000000  891.000000  891.000000  714.000000  891.000000   \n",
       "mean    446.000000    0.383838    2.308642   29.699118    0.523008   \n",
       "std     257.353842    0.486592    0.836071   14.526497    1.102743   \n",
       "min       1.000000    0.000000    1.000000    0.420000    0.000000   \n",
       "25%     223.500000    0.000000    2.000000   20.125000    0.000000   \n",
       "50%     446.000000    0.000000    3.000000   28.000000    0.000000   \n",
       "75%     668.500000    1.000000    3.000000   38.000000    1.000000   \n",
       "max     891.000000    1.000000    3.000000   80.000000    8.000000   \n",
       "\n",
       "            Parch        Fare  \n",
       "count  891.000000  891.000000  \n",
       "mean     0.381594   32.204208  \n",
       "std      0.806057   49.693429  \n",
       "min      0.000000    0.000000  \n",
       "25%      0.000000    7.910400  \n",
       "50%      0.000000   14.454200  \n",
       "75%      0.000000   31.000000  \n",
       "max      6.000000  512.329200  "
      ]
     },
     "execution_count": 8,
     "metadata": {},
     "output_type": "execute_result"
    }
   ],
   "source": [
    "# Describe Titanic Data Frame\n",
    "titanic_data.describe()"
   ]
  },
  {
   "cell_type": "markdown",
   "id": "fifteen-active",
   "metadata": {
    "papermill": {
     "duration": 0.044707,
     "end_time": "2021-06-03T19:18:53.146623",
     "exception": false,
     "start_time": "2021-06-03T19:18:53.101916",
     "status": "completed"
    },
    "tags": []
   },
   "source": [
    "**Data Analysis Using Seaborn**"
   ]
  },
  {
   "cell_type": "code",
   "execution_count": 9,
   "id": "referenced-logan",
   "metadata": {
    "execution": {
     "iopub.execute_input": "2021-06-03T19:18:53.240219Z",
     "iopub.status.busy": "2021-06-03T19:18:53.239574Z",
     "iopub.status.idle": "2021-06-03T19:18:53.382438Z",
     "shell.execute_reply": "2021-06-03T19:18:53.381711Z",
     "shell.execute_reply.started": "2021-06-03T18:19:15.594249Z"
    },
    "papermill": {
     "duration": 0.190588,
     "end_time": "2021-06-03T19:18:53.382583",
     "exception": false,
     "start_time": "2021-06-03T19:18:53.191995",
     "status": "completed"
    },
    "tags": []
   },
   "outputs": [
    {
     "data": {
      "text/plain": [
       "<AxesSubplot:xlabel='Survived', ylabel='count'>"
      ]
     },
     "execution_count": 9,
     "metadata": {},
     "output_type": "execute_result"
    },
    {
     "data": {
      "image/png": "[encoded data removed]",
      "text/plain": [
       "<Figure size 432x288 with 1 Axes>"
      ]
     },
     "metadata": {
      "needs_background": "light"
     },
     "output_type": "display_data"
    }
   ],
   "source": [
    "# Countplot comparing Survived vs Not Survived in Titanic Data Frame\n",
    "sns.countplot(x='Survived', data = titanic_data)"
   ]
  },
  {
   "cell_type": "code",
   "execution_count": 10,
   "id": "continuous-parking",
   "metadata": {
    "execution": {
     "iopub.execute_input": "2021-06-03T19:18:53.480548Z",
     "iopub.status.busy": "2021-06-03T19:18:53.479931Z",
     "iopub.status.idle": "2021-06-03T19:18:53.611280Z",
     "shell.execute_reply": "2021-06-03T19:18:53.610744Z",
     "shell.execute_reply.started": "2021-06-03T18:19:15.742080Z"
    },
    "papermill": {
     "duration": 0.182676,
     "end_time": "2021-06-03T19:18:53.611427",
     "exception": false,
     "start_time": "2021-06-03T19:18:53.428751",
     "status": "completed"
    },
    "tags": []
   },
   "outputs": [
    {
     "data": {
      "text/plain": [
       "<AxesSubplot:xlabel='Survived', ylabel='count'>"
      ]
     },
     "execution_count": 10,
     "metadata": {},
     "output_type": "execute_result"
    },
    {
     "data": {
      "image/png": "[encoded data removed]",
      "text/plain": [
       "<Figure size 432x288 with 1 Axes>"
      ]
     },
     "metadata": {
      "needs_background": "light"
     },
     "output_type": "display_data"
    }
   ],
   "source": [
    "# Countplot comparing Male vs Female Survival in Titanic Data Frame\n",
    "sns.countplot(x='Survived', data = titanic_data, hue = 'Sex')"
   ]
  },
  {
   "cell_type": "markdown",
   "id": "romance-abortion",
   "metadata": {
    "papermill": {
     "duration": 0.047452,
     "end_time": "2021-06-03T19:18:53.706472",
     "exception": false,
     "start_time": "2021-06-03T19:18:53.659020",
     "status": "completed"
    },
    "tags": []
   },
   "source": [
    "Null Values"
   ]
  },
  {
   "cell_type": "code",
   "execution_count": 11,
   "id": "respective-harvest",
   "metadata": {
    "execution": {
     "iopub.execute_input": "2021-06-03T19:18:53.823473Z",
     "iopub.status.busy": "2021-06-03T19:18:53.821299Z",
     "iopub.status.idle": "2021-06-03T19:18:53.826445Z",
     "shell.execute_reply": "2021-06-03T19:18:53.827048Z",
     "shell.execute_reply.started": "2021-06-03T18:19:15.878252Z"
    },
    "papermill": {
     "duration": 0.073323,
     "end_time": "2021-06-03T19:18:53.827228",
     "exception": false,
     "start_time": "2021-06-03T19:18:53.753905",
     "status": "completed"
    },
    "tags": []
   },
   "outputs": [
    {
     "data": {
      "text/html": [
       "<div>\n",
       "<style scoped>\n",
       "    .dataframe tbody tr th:only-of-type {\n",
       "        vertical-align: middle;\n",
       "    }\n",
       "\n",
       "    .dataframe tbody tr th {\n",
       "        vertical-align: top;\n",
       "    }\n",
       "\n",
       "    .dataframe thead th {\n",
       "        text-align: right;\n",
       "    }\n",
       "</style>\n",
       "<table border=\"1\" class=\"dataframe\">\n",
       "  <thead>\n",
       "    <tr style=\"text-align: right;\">\n",
       "      <th></th>\n",
       "      <th>PassengerId</th>\n",
       "      <th>Survived</th>\n",
       "      <th>Pclass</th>\n",
       "      <th>Name</th>\n",
       "      <th>Sex</th>\n",
       "      <th>Age</th>\n",
       "      <th>SibSp</th>\n",
       "      <th>Parch</th>\n",
       "      <th>Ticket</th>\n",
       "      <th>Fare</th>\n",
       "      <th>Cabin</th>\n",
       "      <th>Embarked</th>\n",
       "    </tr>\n",
       "  </thead>\n",
       "  <tbody>\n",
       "    <tr>\n",
       "      <th>0</th>\n",
       "      <td>False</td>\n",
       "      <td>False</td>\n",
       "      <td>False</td>\n",
       "      <td>False</td>\n",
       "      <td>False</td>\n",
       "      <td>False</td>\n",
       "      <td>False</td>\n",
       "      <td>False</td>\n",
       "      <td>False</td>\n",
       "      <td>False</td>\n",
       "      <td>True</td>\n",
       "      <td>False</td>\n",
       "    </tr>\n",
       "    <tr>\n",
       "      <th>1</th>\n",
       "      <td>False</td>\n",
       "      <td>False</td>\n",
       "      <td>False</td>\n",
       "      <td>False</td>\n",
       "      <td>False</td>\n",
       "      <td>False</td>\n",
       "      <td>False</td>\n",
       "      <td>False</td>\n",
       "      <td>False</td>\n",
       "      <td>False</td>\n",
       "      <td>False</td>\n",
       "      <td>False</td>\n",
       "    </tr>\n",
       "    <tr>\n",
       "      <th>2</th>\n",
       "      <td>False</td>\n",
       "      <td>False</td>\n",
       "      <td>False</td>\n",
       "      <td>False</td>\n",
       "      <td>False</td>\n",
       "      <td>False</td>\n",
       "      <td>False</td>\n",
       "      <td>False</td>\n",
       "      <td>False</td>\n",
       "      <td>False</td>\n",
       "      <td>True</td>\n",
       "      <td>False</td>\n",
       "    </tr>\n",
       "    <tr>\n",
       "      <th>3</th>\n",
       "      <td>False</td>\n",
       "      <td>False</td>\n",
       "      <td>False</td>\n",
       "      <td>False</td>\n",
       "      <td>False</td>\n",
       "      <td>False</td>\n",
       "      <td>False</td>\n",
       "      <td>False</td>\n",
       "      <td>False</td>\n",
       "      <td>False</td>\n",
       "      <td>False</td>\n",
       "      <td>False</td>\n",
       "    </tr>\n",
       "    <tr>\n",
       "      <th>4</th>\n",
       "      <td>False</td>\n",
       "      <td>False</td>\n",
       "      <td>False</td>\n",
       "      <td>False</td>\n",
       "      <td>False</td>\n",
       "      <td>False</td>\n",
       "      <td>False</td>\n",
       "      <td>False</td>\n",
       "      <td>False</td>\n",
       "      <td>False</td>\n",
       "      <td>True</td>\n",
       "      <td>False</td>\n",
       "    </tr>\n",
       "    <tr>\n",
       "      <th>...</th>\n",
       "      <td>...</td>\n",
       "      <td>...</td>\n",
       "      <td>...</td>\n",
       "      <td>...</td>\n",
       "      <td>...</td>\n",
       "      <td>...</td>\n",
       "      <td>...</td>\n",
       "      <td>...</td>\n",
       "      <td>...</td>\n",
       "      <td>...</td>\n",
       "      <td>...</td>\n",
       "      <td>...</td>\n",
       "    </tr>\n",
       "    <tr>\n",
       "      <th>886</th>\n",
       "      <td>False</td>\n",
       "      <td>False</td>\n",
       "      <td>False</td>\n",
       "      <td>False</td>\n",
       "      <td>False</td>\n",
       "      <td>False</td>\n",
       "      <td>False</td>\n",
       "      <td>False</td>\n",
       "      <td>False</td>\n",
       "      <td>False</td>\n",
       "      <td>True</td>\n",
       "      <td>False</td>\n",
       "    </tr>\n",
       "    <tr>\n",
       "      <th>887</th>\n",
       "      <td>False</td>\n",
       "      <td>False</td>\n",
       "      <td>False</td>\n",
       "      <td>False</td>\n",
       "      <td>False</td>\n",
       "      <td>False</td>\n",
       "      <td>False</td>\n",
       "      <td>False</td>\n",
       "      <td>False</td>\n",
       "      <td>False</td>\n",
       "      <td>False</td>\n",
       "      <td>False</td>\n",
       "    </tr>\n",
       "    <tr>\n",
       "      <th>888</th>\n",
       "      <td>False</td>\n",
       "      <td>False</td>\n",
       "      <td>False</td>\n",
       "      <td>False</td>\n",
       "      <td>False</td>\n",
       "      <td>True</td>\n",
       "      <td>False</td>\n",
       "      <td>False</td>\n",
       "      <td>False</td>\n",
       "      <td>False</td>\n",
       "      <td>True</td>\n",
       "      <td>False</td>\n",
       "    </tr>\n",
       "    <tr>\n",
       "      <th>889</th>\n",
       "      <td>False</td>\n",
       "      <td>False</td>\n",
       "      <td>False</td>\n",
       "      <td>False</td>\n",
       "      <td>False</td>\n",
       "      <td>False</td>\n",
       "      <td>False</td>\n",
       "      <td>False</td>\n",
       "      <td>False</td>\n",
       "      <td>False</td>\n",
       "      <td>False</td>\n",
       "      <td>False</td>\n",
       "    </tr>\n",
       "    <tr>\n",
       "      <th>890</th>\n",
       "      <td>False</td>\n",
       "      <td>False</td>\n",
       "      <td>False</td>\n",
       "      <td>False</td>\n",
       "      <td>False</td>\n",
       "      <td>False</td>\n",
       "      <td>False</td>\n",
       "      <td>False</td>\n",
       "      <td>False</td>\n",
       "      <td>False</td>\n",
       "      <td>True</td>\n",
       "      <td>False</td>\n",
       "    </tr>\n",
       "  </tbody>\n",
       "</table>\n",
       "<p>891 rows × 12 columns</p>\n",
       "</div>"
      ],
      "text/plain": [
       "     PassengerId  Survived  Pclass   Name    Sex    Age  SibSp  Parch  Ticket  \\\n",
       "0          False     False   False  False  False  False  False  False   False   \n",
       "1          False     False   False  False  False  False  False  False   False   \n",
       "2          False     False   False  False  False  False  False  False   False   \n",
       "3          False     False   False  False  False  False  False  False   False   \n",
       "4          False     False   False  False  False  False  False  False   False   \n",
       "..           ...       ...     ...    ...    ...    ...    ...    ...     ...   \n",
       "886        False     False   False  False  False  False  False  False   False   \n",
       "887        False     False   False  False  False  False  False  False   False   \n",
       "888        False     False   False  False  False   True  False  False   False   \n",
       "889        False     False   False  False  False  False  False  False   False   \n",
       "890        False     False   False  False  False  False  False  False   False   \n",
       "\n",
       "      Fare  Cabin  Embarked  \n",
       "0    False   True     False  \n",
       "1    False  False     False  \n",
       "2    False   True     False  \n",
       "3    False  False     False  \n",
       "4    False   True     False  \n",
       "..     ...    ...       ...  \n",
       "886  False   True     False  \n",
       "887  False  False     False  \n",
       "888  False   True     False  \n",
       "889  False  False     False  \n",
       "890  False   True     False  \n",
       "\n",
       "[891 rows x 12 columns]"
      ]
     },
     "execution_count": 11,
     "metadata": {},
     "output_type": "execute_result"
    }
   ],
   "source": [
    "# Check for Null values in Titanic Data Frame\n",
    "titanic_data.isna()"
   ]
  },
  {
   "cell_type": "code",
   "execution_count": 12,
   "id": "cathedral-valentine",
   "metadata": {
    "execution": {
     "iopub.execute_input": "2021-06-03T19:18:53.926893Z",
     "iopub.status.busy": "2021-06-03T19:18:53.926270Z",
     "iopub.status.idle": "2021-06-03T19:18:53.933412Z",
     "shell.execute_reply": "2021-06-03T19:18:53.933982Z",
     "shell.execute_reply.started": "2021-06-03T18:19:15.903491Z"
    },
    "papermill": {
     "duration": 0.0587,
     "end_time": "2021-06-03T19:18:53.934152",
     "exception": false,
     "start_time": "2021-06-03T19:18:53.875452",
     "status": "completed"
    },
    "tags": []
   },
   "outputs": [
    {
     "data": {
      "text/plain": [
       "PassengerId      0\n",
       "Survived         0\n",
       "Pclass           0\n",
       "Name             0\n",
       "Sex              0\n",
       "Age            177\n",
       "SibSp            0\n",
       "Parch            0\n",
       "Ticket           0\n",
       "Fare             0\n",
       "Cabin          687\n",
       "Embarked         2\n",
       "dtype: int64"
      ]
     },
     "execution_count": 12,
     "metadata": {},
     "output_type": "execute_result"
    }
   ],
   "source": [
    "# Check for Total Null values in Titanic Data Frame\n",
    "titanic_data.isna().sum()"
   ]
  },
  {
   "cell_type": "code",
   "execution_count": 13,
   "id": "furnished-atlantic",
   "metadata": {
    "execution": {
     "iopub.execute_input": "2021-06-03T19:18:54.033871Z",
     "iopub.status.busy": "2021-06-03T19:18:54.033275Z",
     "iopub.status.idle": "2021-06-03T19:18:54.407764Z",
     "shell.execute_reply": "2021-06-03T19:18:54.407127Z",
     "shell.execute_reply.started": "2021-06-03T18:19:15.916348Z"
    },
    "papermill": {
     "duration": 0.42557,
     "end_time": "2021-06-03T19:18:54.407903",
     "exception": false,
     "start_time": "2021-06-03T19:18:53.982333",
     "status": "completed"
    },
    "tags": []
   },
   "outputs": [
    {
     "data": {
      "text/plain": [
       "<AxesSubplot:>"
      ]
     },
     "execution_count": 13,
     "metadata": {},
     "output_type": "execute_result"
    },
    {
     "data": {
      "image/png": "[encoded data removed]",
      "text/plain": [
       "<Figure size 432x288 with 2 Axes>"
      ]
     },
     "metadata": {
      "needs_background": "light"
     },
     "output_type": "display_data"
    }
   ],
   "source": [
    "# Seaborn Heatmap Plot of Null values in Titanic Data Frame\n",
    "sns.heatmap(titanic_data.isna())"
   ]
  },
  {
   "cell_type": "code",
   "execution_count": 14,
   "id": "comfortable-upgrade",
   "metadata": {
    "execution": {
     "iopub.execute_input": "2021-06-03T19:18:54.513142Z",
     "iopub.status.busy": "2021-06-03T19:18:54.512258Z",
     "iopub.status.idle": "2021-06-03T19:18:54.516499Z",
     "shell.execute_reply": "2021-06-03T19:18:54.516008Z",
     "shell.execute_reply.started": "2021-06-03T18:19:16.339903Z"
    },
    "papermill": {
     "duration": 0.059478,
     "end_time": "2021-06-03T19:18:54.516636",
     "exception": false,
     "start_time": "2021-06-03T19:18:54.457158",
     "status": "completed"
    },
    "tags": []
   },
   "outputs": [
    {
     "data": {
      "text/plain": [
       "19.865319865319865"
      ]
     },
     "execution_count": 14,
     "metadata": {},
     "output_type": "execute_result"
    }
   ],
   "source": [
    "# Check Percentage of Null values in 'Age' Column of Titanic Data Frame\n",
    "# Will we Delete Null values or Impute Null Values?\n",
    "# Sum of NA values in 'Age' column, divided by Length of 'Age' column (multiplied by 100 for percentage) in Titanic Data Frame\n",
    "(titanic_data['Age'].isna().sum()/len(titanic_data['Age']))*100"
   ]
  },
  {
   "cell_type": "markdown",
   "id": "impressive-oxide",
   "metadata": {
    "papermill": {
     "duration": 0.050684,
     "end_time": "2021-06-03T19:18:54.616933",
     "exception": false,
     "start_time": "2021-06-03T19:18:54.566249",
     "status": "completed"
    },
    "tags": []
   },
   "source": [
    "Because Null values are 20%, we will Impute the Null values"
   ]
  },
  {
   "cell_type": "code",
   "execution_count": 15,
   "id": "flying-scope",
   "metadata": {
    "execution": {
     "iopub.execute_input": "2021-06-03T19:18:54.720242Z",
     "iopub.status.busy": "2021-06-03T19:18:54.719598Z",
     "iopub.status.idle": "2021-06-03T19:18:54.725580Z",
     "shell.execute_reply": "2021-06-03T19:18:54.726072Z",
     "shell.execute_reply.started": "2021-06-03T18:19:16.348625Z"
    },
    "papermill": {
     "duration": 0.059124,
     "end_time": "2021-06-03T19:18:54.726252",
     "exception": false,
     "start_time": "2021-06-03T19:18:54.667128",
     "status": "completed"
    },
    "tags": []
   },
   "outputs": [
    {
     "data": {
      "text/plain": [
       "77.10437710437711"
      ]
     },
     "execution_count": 15,
     "metadata": {},
     "output_type": "execute_result"
    }
   ],
   "source": [
    "# Check Percentage of Null values in 'Cabin' Column of Titanic Data Frame\n",
    "# Will we Delete Null values or Impute Null Values?\n",
    "# Sum of NA values in 'Cabin' column, divided by Length of 'Cabin' column (multiplied by 100 for percentage) in Titanic Data Frame\n",
    "(titanic_data['Cabin'].isna().sum()/len(titanic_data['Cabin']))*100"
   ]
  },
  {
   "cell_type": "markdown",
   "id": "genuine-appeal",
   "metadata": {
    "papermill": {
     "duration": 0.04961,
     "end_time": "2021-06-03T19:18:54.826422",
     "exception": false,
     "start_time": "2021-06-03T19:18:54.776812",
     "status": "completed"
    },
    "tags": []
   },
   "source": [
    "Because Null values are 77%, we will Discard Null values/Column"
   ]
  },
  {
   "cell_type": "code",
   "execution_count": 16,
   "id": "stable-support",
   "metadata": {
    "execution": {
     "iopub.execute_input": "2021-06-03T19:18:54.930346Z",
     "iopub.status.busy": "2021-06-03T19:18:54.929735Z",
     "iopub.status.idle": "2021-06-03T19:18:55.204494Z",
     "shell.execute_reply": "2021-06-03T19:18:55.204954Z",
     "shell.execute_reply.started": "2021-06-03T18:19:16.369465Z"
    },
    "papermill": {
     "duration": 0.327994,
     "end_time": "2021-06-03T19:18:55.205144",
     "exception": false,
     "start_time": "2021-06-03T19:18:54.877150",
     "status": "completed"
    },
    "tags": []
   },
   "outputs": [
    {
     "data": {
      "text/plain": [
       "<seaborn.axisgrid.FacetGrid at 0x7f58cde56c50>"
      ]
     },
     "execution_count": 16,
     "metadata": {},
     "output_type": "execute_result"
    },
    {
     "data": {
      "image/png": "[encoded data removed]",
      "text/plain": [
       "<Figure size 360x360 with 1 Axes>"
      ]
     },
     "metadata": {
      "needs_background": "light"
     },
     "output_type": "display_data"
    }
   ],
   "source": [
    "# Seaborn Distribution Plot of 'Age' values in Titanic Data Frame\n",
    "sns.displot(x = 'Age', data = titanic_data)"
   ]
  },
  {
   "cell_type": "markdown",
   "id": "perfect-indiana",
   "metadata": {
    "papermill": {
     "duration": 0.051494,
     "end_time": "2021-06-03T19:18:55.307294",
     "exception": false,
     "start_time": "2021-06-03T19:18:55.255800",
     "status": "completed"
    },
    "tags": []
   },
   "source": [
    "Majority of passengers were between 15-40"
   ]
  },
  {
   "cell_type": "markdown",
   "id": "stunning-greensboro",
   "metadata": {
    "papermill": {
     "duration": 0.051011,
     "end_time": "2021-06-03T19:18:55.409150",
     "exception": false,
     "start_time": "2021-06-03T19:18:55.358139",
     "status": "completed"
    },
    "tags": []
   },
   "source": [
    "**Data Cleaning**"
   ]
  },
  {
   "cell_type": "markdown",
   "id": "handed-wound",
   "metadata": {
    "papermill": {
     "duration": 0.050635,
     "end_time": "2021-06-03T19:18:55.510669",
     "exception": false,
     "start_time": "2021-06-03T19:18:55.460034",
     "status": "completed"
    },
    "tags": []
   },
   "source": [
    "Imputing Data for Null/NA Values"
   ]
  },
  {
   "cell_type": "code",
   "execution_count": 17,
   "id": "patient-design",
   "metadata": {
    "execution": {
     "iopub.execute_input": "2021-06-03T19:18:55.617584Z",
     "iopub.status.busy": "2021-06-03T19:18:55.616667Z",
     "iopub.status.idle": "2021-06-03T19:18:55.622265Z",
     "shell.execute_reply": "2021-06-03T19:18:55.622704Z",
     "shell.execute_reply.started": "2021-06-03T18:19:16.682363Z"
    },
    "papermill": {
     "duration": 0.060654,
     "end_time": "2021-06-03T19:18:55.622873",
     "exception": false,
     "start_time": "2021-06-03T19:18:55.562219",
     "status": "completed"
    },
    "tags": []
   },
   "outputs": [],
   "source": [
    "# Impute Null values in 'Age' column of Titanic Data Frame\n",
    "# Find Mean value of 'Age' column\n",
    "titanic_data['Age'].mean()\n",
    "# Use Mean value of 'Age' column to fill IN PLACE where 'Age' is NA\n",
    "titanic_data['Age'].fillna(titanic_data['Age'].mean(), inplace = True)"
   ]
  },
  {
   "cell_type": "code",
   "execution_count": 18,
   "id": "attended-prerequisite",
   "metadata": {
    "execution": {
     "iopub.execute_input": "2021-06-03T19:18:55.728016Z",
     "iopub.status.busy": "2021-06-03T19:18:55.727065Z",
     "iopub.status.idle": "2021-06-03T19:18:55.732900Z",
     "shell.execute_reply": "2021-06-03T19:18:55.733370Z",
     "shell.execute_reply.started": "2021-06-03T18:19:16.689446Z"
    },
    "papermill": {
     "duration": 0.060005,
     "end_time": "2021-06-03T19:18:55.733544",
     "exception": false,
     "start_time": "2021-06-03T19:18:55.673539",
     "status": "completed"
    },
    "tags": []
   },
   "outputs": [
    {
     "data": {
      "text/plain": [
       "0"
      ]
     },
     "execution_count": 18,
     "metadata": {},
     "output_type": "execute_result"
    }
   ],
   "source": [
    "# Verify Null Values in 'Age' column of Titanic Data Frame\n",
    "titanic_data['Age'].isna().sum()\n"
   ]
  },
  {
   "cell_type": "code",
   "execution_count": 19,
   "id": "adopted-alfred",
   "metadata": {
    "execution": {
     "iopub.execute_input": "2021-06-03T19:18:55.840402Z",
     "iopub.status.busy": "2021-06-03T19:18:55.839487Z",
     "iopub.status.idle": "2021-06-03T19:18:56.330372Z",
     "shell.execute_reply": "2021-06-03T19:18:56.329745Z",
     "shell.execute_reply.started": "2021-06-03T18:19:16.704181Z"
    },
    "papermill": {
     "duration": 0.545483,
     "end_time": "2021-06-03T19:18:56.330509",
     "exception": false,
     "start_time": "2021-06-03T19:18:55.785026",
     "status": "completed"
    },
    "tags": []
   },
   "outputs": [
    {
     "data": {
      "text/plain": [
       "<AxesSubplot:>"
      ]
     },
     "execution_count": 19,
     "metadata": {},
     "output_type": "execute_result"
    },
    {
     "data": {
      "image/png": "[encoded data removed]",
      "text/plain": [
       "<Figure size 432x288 with 2 Axes>"
      ]
     },
     "metadata": {
      "needs_background": "light"
     },
     "output_type": "display_data"
    }
   ],
   "source": [
    "# Seaborn Heatmap Plot of Null values in Titanic Data Frame\n",
    "# Visualize Null values Filled with Mean values \n",
    "sns.heatmap(titanic_data.isna())"
   ]
  },
  {
   "cell_type": "markdown",
   "id": "invisible-worse",
   "metadata": {
    "papermill": {
     "duration": 0.051916,
     "end_time": "2021-06-03T19:18:56.436243",
     "exception": false,
     "start_time": "2021-06-03T19:18:56.384327",
     "status": "completed"
    },
    "tags": []
   },
   "source": [
    "Removing Data for Null/NA Values"
   ]
  },
  {
   "cell_type": "code",
   "execution_count": 20,
   "id": "informational-customer",
   "metadata": {
    "execution": {
     "iopub.execute_input": "2021-06-03T19:18:56.547025Z",
     "iopub.status.busy": "2021-06-03T19:18:56.546109Z",
     "iopub.status.idle": "2021-06-03T19:18:56.549341Z",
     "shell.execute_reply": "2021-06-03T19:18:56.548811Z",
     "shell.execute_reply.started": "2021-06-03T18:19:17.219757Z"
    },
    "papermill": {
     "duration": 0.060955,
     "end_time": "2021-06-03T19:18:56.549478",
     "exception": false,
     "start_time": "2021-06-03T19:18:56.488523",
     "status": "completed"
    },
    "tags": []
   },
   "outputs": [],
   "source": [
    "# Drop Null values in 'Cabin' column of Titanic Data Frame\n",
    "# Drop 'Cabin' IN PLACE where NA \n",
    "# Axis = 0 for Rows, Axis = 1 for Columns\n",
    "titanic_data.drop('Cabin', axis = 1, inplace = True)"
   ]
  },
  {
   "cell_type": "code",
   "execution_count": 21,
   "id": "level-questionnaire",
   "metadata": {
    "execution": {
     "iopub.execute_input": "2021-06-03T19:18:56.662201Z",
     "iopub.status.busy": "2021-06-03T19:18:56.660821Z",
     "iopub.status.idle": "2021-06-03T19:18:57.017800Z",
     "shell.execute_reply": "2021-06-03T19:18:57.017180Z",
     "shell.execute_reply.started": "2021-06-03T18:19:17.226580Z"
    },
    "papermill": {
     "duration": 0.415524,
     "end_time": "2021-06-03T19:18:57.017947",
     "exception": false,
     "start_time": "2021-06-03T19:18:56.602423",
     "status": "completed"
    },
    "tags": []
   },
   "outputs": [
    {
     "data": {
      "text/plain": [
       "<AxesSubplot:>"
      ]
     },
     "execution_count": 21,
     "metadata": {},
     "output_type": "execute_result"
    },
    {
     "data": {
      "image/png": "[encoded data removed]",
      "text/plain": [
       "<Figure size 432x288 with 2 Axes>"
      ]
     },
     "metadata": {
      "needs_background": "light"
     },
     "output_type": "display_data"
    }
   ],
   "source": [
    "## Seaborn Heatmap Plot of Null values in Titanic Data Frame\n",
    "# Visualize Null values Filled with Mean values \n",
    "sns.heatmap(titanic_data.isna())"
   ]
  },
  {
   "cell_type": "markdown",
   "id": "caring-float",
   "metadata": {
    "papermill": {
     "duration": 0.053367,
     "end_time": "2021-06-03T19:18:57.125024",
     "exception": false,
     "start_time": "2021-06-03T19:18:57.071657",
     "status": "completed"
    },
    "tags": []
   },
   "source": [
    "Cabin column has been removed.  No more Null/NA values in Titanic Data Frame"
   ]
  },
  {
   "cell_type": "markdown",
   "id": "arctic-radar",
   "metadata": {
    "papermill": {
     "duration": 0.053202,
     "end_time": "2021-06-03T19:18:57.231814",
     "exception": false,
     "start_time": "2021-06-03T19:18:57.178612",
     "status": "completed"
    },
    "tags": []
   },
   "source": [
    "**Preparing Data for Model**"
   ]
  },
  {
   "cell_type": "markdown",
   "id": "arabic-recruitment",
   "metadata": {
    "papermill": {
     "duration": 0.052984,
     "end_time": "2021-06-03T19:18:57.338266",
     "exception": false,
     "start_time": "2021-06-03T19:18:57.285282",
     "status": "completed"
    },
    "tags": []
   },
   "source": [
    "Requires Converting ALL Non-Numerical columns to Numeric values"
   ]
  },
  {
   "cell_type": "code",
   "execution_count": 22,
   "id": "difficult-affair",
   "metadata": {
    "execution": {
     "iopub.execute_input": "2021-06-03T19:18:57.458007Z",
     "iopub.status.busy": "2021-06-03T19:18:57.457346Z",
     "iopub.status.idle": "2021-06-03T19:18:57.462281Z",
     "shell.execute_reply": "2021-06-03T19:18:57.462799Z",
     "shell.execute_reply.started": "2021-06-03T18:19:17.634595Z"
    },
    "papermill": {
     "duration": 0.071334,
     "end_time": "2021-06-03T19:18:57.462976",
     "exception": false,
     "start_time": "2021-06-03T19:18:57.391642",
     "status": "completed"
    },
    "tags": []
   },
   "outputs": [
    {
     "name": "stdout",
     "output_type": "stream",
     "text": [
      "<class 'pandas.core.frame.DataFrame'>\n",
      "RangeIndex: 891 entries, 0 to 890\n",
      "Data columns (total 11 columns):\n",
      " #   Column       Non-Null Count  Dtype  \n",
      "---  ------       --------------  -----  \n",
      " 0   PassengerId  891 non-null    int64  \n",
      " 1   Survived     891 non-null    int64  \n",
      " 2   Pclass       891 non-null    int64  \n",
      " 3   Name         891 non-null    object \n",
      " 4   Sex          891 non-null    object \n",
      " 5   Age          891 non-null    float64\n",
      " 6   SibSp        891 non-null    int64  \n",
      " 7   Parch        891 non-null    int64  \n",
      " 8   Ticket       891 non-null    object \n",
      " 9   Fare         891 non-null    float64\n",
      " 10  Embarked     889 non-null    object \n",
      "dtypes: float64(2), int64(5), object(4)\n",
      "memory usage: 76.7+ KB\n"
     ]
    }
   ],
   "source": [
    "# Check columns for Non-Numeric Data Types for Titanic Data Frame\n",
    "titanic_data.info()"
   ]
  },
  {
   "cell_type": "code",
   "execution_count": 23,
   "id": "graphic-closure",
   "metadata": {
    "execution": {
     "iopub.execute_input": "2021-06-03T19:18:57.576739Z",
     "iopub.status.busy": "2021-06-03T19:18:57.576107Z",
     "iopub.status.idle": "2021-06-03T19:18:57.580141Z",
     "shell.execute_reply": "2021-06-03T19:18:57.579529Z",
     "shell.execute_reply.started": "2021-06-03T18:19:17.658532Z"
    },
    "papermill": {
     "duration": 0.063525,
     "end_time": "2021-06-03T19:18:57.580274",
     "exception": false,
     "start_time": "2021-06-03T19:18:57.516749",
     "status": "completed"
    },
    "tags": []
   },
   "outputs": [
    {
     "data": {
      "text/plain": [
       "PassengerId      int64\n",
       "Survived         int64\n",
       "Pclass           int64\n",
       "Name            object\n",
       "Sex             object\n",
       "Age            float64\n",
       "SibSp            int64\n",
       "Parch            int64\n",
       "Ticket          object\n",
       "Fare           float64\n",
       "Embarked        object\n",
       "dtype: object"
      ]
     },
     "execution_count": 23,
     "metadata": {},
     "output_type": "execute_result"
    }
   ],
   "source": [
    "# Check columns for Non-Numeric Data Types for Titanic Data Frame\n",
    "titanic_data.dtypes"
   ]
  },
  {
   "cell_type": "markdown",
   "id": "unlike-delta",
   "metadata": {
    "papermill": {
     "duration": 0.053659,
     "end_time": "2021-06-03T19:18:57.689432",
     "exception": false,
     "start_time": "2021-06-03T19:18:57.635773",
     "status": "completed"
    },
    "tags": []
   },
   "source": [
    "Name is non-numerical, Sex is non-numerical, Ticket is non-numerical, and Embarked is non-numerical"
   ]
  },
  {
   "cell_type": "code",
   "execution_count": 24,
   "id": "still-patent",
   "metadata": {
    "execution": {
     "iopub.execute_input": "2021-06-03T19:18:57.808807Z",
     "iopub.status.busy": "2021-06-03T19:18:57.802585Z",
     "iopub.status.idle": "2021-06-03T19:18:57.813358Z",
     "shell.execute_reply": "2021-06-03T19:18:57.812867Z",
     "shell.execute_reply.started": "2021-06-03T18:19:17.669844Z"
    },
    "papermill": {
     "duration": 0.07005,
     "end_time": "2021-06-03T19:18:57.813495",
     "exception": false,
     "start_time": "2021-06-03T19:18:57.743445",
     "status": "completed"
    },
    "tags": []
   },
   "outputs": [
    {
     "data": {
      "text/html": [
       "<div>\n",
       "<style scoped>\n",
       "    .dataframe tbody tr th:only-of-type {\n",
       "        vertical-align: middle;\n",
       "    }\n",
       "\n",
       "    .dataframe tbody tr th {\n",
       "        vertical-align: top;\n",
       "    }\n",
       "\n",
       "    .dataframe thead th {\n",
       "        text-align: right;\n",
       "    }\n",
       "</style>\n",
       "<table border=\"1\" class=\"dataframe\">\n",
       "  <thead>\n",
       "    <tr style=\"text-align: right;\">\n",
       "      <th></th>\n",
       "      <th>female</th>\n",
       "      <th>male</th>\n",
       "    </tr>\n",
       "  </thead>\n",
       "  <tbody>\n",
       "    <tr>\n",
       "      <th>0</th>\n",
       "      <td>0</td>\n",
       "      <td>1</td>\n",
       "    </tr>\n",
       "    <tr>\n",
       "      <th>1</th>\n",
       "      <td>1</td>\n",
       "      <td>0</td>\n",
       "    </tr>\n",
       "    <tr>\n",
       "      <th>2</th>\n",
       "      <td>1</td>\n",
       "      <td>0</td>\n",
       "    </tr>\n",
       "    <tr>\n",
       "      <th>3</th>\n",
       "      <td>1</td>\n",
       "      <td>0</td>\n",
       "    </tr>\n",
       "    <tr>\n",
       "      <th>4</th>\n",
       "      <td>0</td>\n",
       "      <td>1</td>\n",
       "    </tr>\n",
       "    <tr>\n",
       "      <th>...</th>\n",
       "      <td>...</td>\n",
       "      <td>...</td>\n",
       "    </tr>\n",
       "    <tr>\n",
       "      <th>886</th>\n",
       "      <td>0</td>\n",
       "      <td>1</td>\n",
       "    </tr>\n",
       "    <tr>\n",
       "      <th>887</th>\n",
       "      <td>1</td>\n",
       "      <td>0</td>\n",
       "    </tr>\n",
       "    <tr>\n",
       "      <th>888</th>\n",
       "      <td>1</td>\n",
       "      <td>0</td>\n",
       "    </tr>\n",
       "    <tr>\n",
       "      <th>889</th>\n",
       "      <td>0</td>\n",
       "      <td>1</td>\n",
       "    </tr>\n",
       "    <tr>\n",
       "      <th>890</th>\n",
       "      <td>0</td>\n",
       "      <td>1</td>\n",
       "    </tr>\n",
       "  </tbody>\n",
       "</table>\n",
       "<p>891 rows × 2 columns</p>\n",
       "</div>"
      ],
      "text/plain": [
       "     female  male\n",
       "0         0     1\n",
       "1         1     0\n",
       "2         1     0\n",
       "3         1     0\n",
       "4         0     1\n",
       "..      ...   ...\n",
       "886       0     1\n",
       "887       1     0\n",
       "888       1     0\n",
       "889       0     1\n",
       "890       0     1\n",
       "\n",
       "[891 rows x 2 columns]"
      ]
     },
     "execution_count": 24,
     "metadata": {},
     "output_type": "execute_result"
    }
   ],
   "source": [
    "# Convert 'Sex' column in Titanic Data Frame into Numeric Values\n",
    "# Use Pandas to Convert String into Dummy Data\n",
    "pd.get_dummies(titanic_data['Sex'])\n"
   ]
  },
  {
   "cell_type": "markdown",
   "id": "checked-steps",
   "metadata": {
    "papermill": {
     "duration": 0.054532,
     "end_time": "2021-06-03T19:18:57.924094",
     "exception": false,
     "start_time": "2021-06-03T19:18:57.869562",
     "status": "completed"
    },
    "tags": []
   },
   "source": [
    "Adds two dummy columns, Female and Male.  0 = False, 1 = True for those specific column values."
   ]
  },
  {
   "cell_type": "code",
   "execution_count": 25,
   "id": "understood-radical",
   "metadata": {
    "execution": {
     "iopub.execute_input": "2021-06-03T19:18:58.041379Z",
     "iopub.status.busy": "2021-06-03T19:18:58.040402Z",
     "iopub.status.idle": "2021-06-03T19:18:58.043463Z",
     "shell.execute_reply": "2021-06-03T19:18:58.042966Z",
     "shell.execute_reply.started": "2021-06-03T18:19:17.685632Z"
    },
    "papermill": {
     "duration": 0.064454,
     "end_time": "2021-06-03T19:18:58.043602",
     "exception": false,
     "start_time": "2021-06-03T19:18:57.979148",
     "status": "completed"
    },
    "tags": []
   },
   "outputs": [],
   "source": [
    "# Assigns new variable Gender\n",
    "# Removes Female dummy column\n",
    "# Assigns Gender to 0 = Female (not Male) or 1 = Male\n",
    "gender = pd.get_dummies(titanic_data['Sex'], drop_first = True)\n"
   ]
  },
  {
   "cell_type": "code",
   "execution_count": 26,
   "id": "catholic-german",
   "metadata": {
    "execution": {
     "iopub.execute_input": "2021-06-03T19:18:58.158632Z",
     "iopub.status.busy": "2021-06-03T19:18:58.157997Z",
     "iopub.status.idle": "2021-06-03T19:18:58.159803Z",
     "shell.execute_reply": "2021-06-03T19:18:58.160244Z",
     "shell.execute_reply.started": "2021-06-03T18:19:17.697313Z"
    },
    "papermill": {
     "duration": 0.062144,
     "end_time": "2021-06-03T19:18:58.160416",
     "exception": false,
     "start_time": "2021-06-03T19:18:58.098272",
     "status": "completed"
    },
    "tags": []
   },
   "outputs": [],
   "source": [
    "# Adds new column 'Gender' to Titanic Data Frame\n",
    "titanic_data['Gender'] = gender"
   ]
  },
  {
   "cell_type": "code",
   "execution_count": 27,
   "id": "provincial-stretch",
   "metadata": {
    "execution": {
     "iopub.execute_input": "2021-06-03T19:18:58.273656Z",
     "iopub.status.busy": "2021-06-03T19:18:58.273052Z",
     "iopub.status.idle": "2021-06-03T19:18:58.277466Z",
     "shell.execute_reply": "2021-06-03T19:18:58.277956Z",
     "shell.execute_reply.started": "2021-06-03T18:19:17.714497Z"
    },
    "papermill": {
     "duration": 0.062535,
     "end_time": "2021-06-03T19:18:58.278144",
     "exception": false,
     "start_time": "2021-06-03T19:18:58.215609",
     "status": "completed"
    },
    "tags": []
   },
   "outputs": [
    {
     "data": {
      "text/plain": [
       "Index(['PassengerId', 'Survived', 'Pclass', 'Name', 'Sex', 'Age', 'SibSp',\n",
       "       'Parch', 'Ticket', 'Fare', 'Embarked', 'Gender'],\n",
       "      dtype='object')"
      ]
     },
     "execution_count": 27,
     "metadata": {},
     "output_type": "execute_result"
    }
   ],
   "source": [
    "# Verify Gender column added to Titanic Data Frame\n",
    "titanic_data.columns"
   ]
  },
  {
   "cell_type": "code",
   "execution_count": 28,
   "id": "alert-market",
   "metadata": {
    "execution": {
     "iopub.execute_input": "2021-06-03T19:18:58.421887Z",
     "iopub.status.busy": "2021-06-03T19:18:58.420920Z",
     "iopub.status.idle": "2021-06-03T19:18:58.436274Z",
     "shell.execute_reply": "2021-06-03T19:18:58.437136Z",
     "shell.execute_reply.started": "2021-06-03T18:19:17.727203Z"
    },
    "papermill": {
     "duration": 0.091038,
     "end_time": "2021-06-03T19:18:58.437371",
     "exception": false,
     "start_time": "2021-06-03T19:18:58.346333",
     "status": "completed"
    },
    "tags": []
   },
   "outputs": [
    {
     "data": {
      "text/html": [
       "<div>\n",
       "<style scoped>\n",
       "    .dataframe tbody tr th:only-of-type {\n",
       "        vertical-align: middle;\n",
       "    }\n",
       "\n",
       "    .dataframe tbody tr th {\n",
       "        vertical-align: top;\n",
       "    }\n",
       "\n",
       "    .dataframe thead th {\n",
       "        text-align: right;\n",
       "    }\n",
       "</style>\n",
       "<table border=\"1\" class=\"dataframe\">\n",
       "  <thead>\n",
       "    <tr style=\"text-align: right;\">\n",
       "      <th></th>\n",
       "      <th>PassengerId</th>\n",
       "      <th>Survived</th>\n",
       "      <th>Pclass</th>\n",
       "      <th>Name</th>\n",
       "      <th>Sex</th>\n",
       "      <th>Age</th>\n",
       "      <th>SibSp</th>\n",
       "      <th>Parch</th>\n",
       "      <th>Ticket</th>\n",
       "      <th>Fare</th>\n",
       "      <th>Embarked</th>\n",
       "      <th>Gender</th>\n",
       "    </tr>\n",
       "  </thead>\n",
       "  <tbody>\n",
       "    <tr>\n",
       "      <th>0</th>\n",
       "      <td>1</td>\n",
       "      <td>0</td>\n",
       "      <td>3</td>\n",
       "      <td>Braund, Mr. Owen Harris</td>\n",
       "      <td>male</td>\n",
       "      <td>22.0</td>\n",
       "      <td>1</td>\n",
       "      <td>0</td>\n",
       "      <td>A/5 21171</td>\n",
       "      <td>7.2500</td>\n",
       "      <td>S</td>\n",
       "      <td>1</td>\n",
       "    </tr>\n",
       "    <tr>\n",
       "      <th>1</th>\n",
       "      <td>2</td>\n",
       "      <td>1</td>\n",
       "      <td>1</td>\n",
       "      <td>Cumings, Mrs. John Bradley (Florence Briggs Th...</td>\n",
       "      <td>female</td>\n",
       "      <td>38.0</td>\n",
       "      <td>1</td>\n",
       "      <td>0</td>\n",
       "      <td>PC 17599</td>\n",
       "      <td>71.2833</td>\n",
       "      <td>C</td>\n",
       "      <td>0</td>\n",
       "    </tr>\n",
       "    <tr>\n",
       "      <th>2</th>\n",
       "      <td>3</td>\n",
       "      <td>1</td>\n",
       "      <td>3</td>\n",
       "      <td>Heikkinen, Miss. Laina</td>\n",
       "      <td>female</td>\n",
       "      <td>26.0</td>\n",
       "      <td>0</td>\n",
       "      <td>0</td>\n",
       "      <td>STON/O2. 3101282</td>\n",
       "      <td>7.9250</td>\n",
       "      <td>S</td>\n",
       "      <td>0</td>\n",
       "    </tr>\n",
       "    <tr>\n",
       "      <th>3</th>\n",
       "      <td>4</td>\n",
       "      <td>1</td>\n",
       "      <td>1</td>\n",
       "      <td>Futrelle, Mrs. Jacques Heath (Lily May Peel)</td>\n",
       "      <td>female</td>\n",
       "      <td>35.0</td>\n",
       "      <td>1</td>\n",
       "      <td>0</td>\n",
       "      <td>113803</td>\n",
       "      <td>53.1000</td>\n",
       "      <td>S</td>\n",
       "      <td>0</td>\n",
       "    </tr>\n",
       "    <tr>\n",
       "      <th>4</th>\n",
       "      <td>5</td>\n",
       "      <td>0</td>\n",
       "      <td>3</td>\n",
       "      <td>Allen, Mr. William Henry</td>\n",
       "      <td>male</td>\n",
       "      <td>35.0</td>\n",
       "      <td>0</td>\n",
       "      <td>0</td>\n",
       "      <td>373450</td>\n",
       "      <td>8.0500</td>\n",
       "      <td>S</td>\n",
       "      <td>1</td>\n",
       "    </tr>\n",
       "  </tbody>\n",
       "</table>\n",
       "</div>"
      ],
      "text/plain": [
       "   PassengerId  Survived  Pclass  \\\n",
       "0            1         0       3   \n",
       "1            2         1       1   \n",
       "2            3         1       3   \n",
       "3            4         1       1   \n",
       "4            5         0       3   \n",
       "\n",
       "                                                Name     Sex   Age  SibSp  \\\n",
       "0                            Braund, Mr. Owen Harris    male  22.0      1   \n",
       "1  Cumings, Mrs. John Bradley (Florence Briggs Th...  female  38.0      1   \n",
       "2                             Heikkinen, Miss. Laina  female  26.0      0   \n",
       "3       Futrelle, Mrs. Jacques Heath (Lily May Peel)  female  35.0      1   \n",
       "4                           Allen, Mr. William Henry    male  35.0      0   \n",
       "\n",
       "   Parch            Ticket     Fare Embarked  Gender  \n",
       "0      0         A/5 21171   7.2500        S       1  \n",
       "1      0          PC 17599  71.2833        C       0  \n",
       "2      0  STON/O2. 3101282   7.9250        S       0  \n",
       "3      0            113803  53.1000        S       0  \n",
       "4      0            373450   8.0500        S       1  "
      ]
     },
     "execution_count": 28,
     "metadata": {},
     "output_type": "execute_result"
    }
   ],
   "source": [
    "# Show Head (first 5 Rows) of NEW Titanic Data Frame\n",
    "titanic_data.head()"
   ]
  },
  {
   "cell_type": "markdown",
   "id": "swiss-joining",
   "metadata": {
    "papermill": {
     "duration": 0.05565,
     "end_time": "2021-06-03T19:18:58.561514",
     "exception": false,
     "start_time": "2021-06-03T19:18:58.505864",
     "status": "completed"
    },
    "tags": []
   },
   "source": [
    "Dropping Columns Identified as Not Required"
   ]
  },
  {
   "cell_type": "code",
   "execution_count": 29,
   "id": "stable-breathing",
   "metadata": {
    "execution": {
     "iopub.execute_input": "2021-06-03T19:18:58.691903Z",
     "iopub.status.busy": "2021-06-03T19:18:58.691246Z",
     "iopub.status.idle": "2021-06-03T19:18:58.697286Z",
     "shell.execute_reply": "2021-06-03T19:18:58.696747Z",
     "shell.execute_reply.started": "2021-06-03T18:28:09.396293Z"
    },
    "papermill": {
     "duration": 0.069685,
     "end_time": "2021-06-03T19:18:58.697422",
     "exception": false,
     "start_time": "2021-06-03T19:18:58.627737",
     "status": "completed"
    },
    "tags": []
   },
   "outputs": [],
   "source": [
    "# Drop Non-Numerical Columns from the Titanic Data Frame\n",
    "titanic_data.drop(['Name', 'Sex', 'Ticket', 'Embarked'], axis = 1, inplace = True)"
   ]
  },
  {
   "cell_type": "code",
   "execution_count": 30,
   "id": "motivated-shipping",
   "metadata": {
    "execution": {
     "iopub.execute_input": "2021-06-03T19:18:58.824422Z",
     "iopub.status.busy": "2021-06-03T19:18:58.823402Z",
     "iopub.status.idle": "2021-06-03T19:18:58.827948Z",
     "shell.execute_reply": "2021-06-03T19:18:58.827222Z",
     "shell.execute_reply.started": "2021-06-03T18:28:12.215655Z"
    },
    "papermill": {
     "duration": 0.074534,
     "end_time": "2021-06-03T19:18:58.828101",
     "exception": false,
     "start_time": "2021-06-03T19:18:58.753567",
     "status": "completed"
    },
    "tags": []
   },
   "outputs": [
    {
     "data": {
      "text/html": [
       "<div>\n",
       "<style scoped>\n",
       "    .dataframe tbody tr th:only-of-type {\n",
       "        vertical-align: middle;\n",
       "    }\n",
       "\n",
       "    .dataframe tbody tr th {\n",
       "        vertical-align: top;\n",
       "    }\n",
       "\n",
       "    .dataframe thead th {\n",
       "        text-align: right;\n",
       "    }\n",
       "</style>\n",
       "<table border=\"1\" class=\"dataframe\">\n",
       "  <thead>\n",
       "    <tr style=\"text-align: right;\">\n",
       "      <th></th>\n",
       "      <th>PassengerId</th>\n",
       "      <th>Survived</th>\n",
       "      <th>Pclass</th>\n",
       "      <th>Age</th>\n",
       "      <th>SibSp</th>\n",
       "      <th>Parch</th>\n",
       "      <th>Fare</th>\n",
       "      <th>Gender</th>\n",
       "    </tr>\n",
       "  </thead>\n",
       "  <tbody>\n",
       "    <tr>\n",
       "      <th>0</th>\n",
       "      <td>1</td>\n",
       "      <td>0</td>\n",
       "      <td>3</td>\n",
       "      <td>22.0</td>\n",
       "      <td>1</td>\n",
       "      <td>0</td>\n",
       "      <td>7.2500</td>\n",
       "      <td>1</td>\n",
       "    </tr>\n",
       "    <tr>\n",
       "      <th>1</th>\n",
       "      <td>2</td>\n",
       "      <td>1</td>\n",
       "      <td>1</td>\n",
       "      <td>38.0</td>\n",
       "      <td>1</td>\n",
       "      <td>0</td>\n",
       "      <td>71.2833</td>\n",
       "      <td>0</td>\n",
       "    </tr>\n",
       "    <tr>\n",
       "      <th>2</th>\n",
       "      <td>3</td>\n",
       "      <td>1</td>\n",
       "      <td>3</td>\n",
       "      <td>26.0</td>\n",
       "      <td>0</td>\n",
       "      <td>0</td>\n",
       "      <td>7.9250</td>\n",
       "      <td>0</td>\n",
       "    </tr>\n",
       "    <tr>\n",
       "      <th>3</th>\n",
       "      <td>4</td>\n",
       "      <td>1</td>\n",
       "      <td>1</td>\n",
       "      <td>35.0</td>\n",
       "      <td>1</td>\n",
       "      <td>0</td>\n",
       "      <td>53.1000</td>\n",
       "      <td>0</td>\n",
       "    </tr>\n",
       "    <tr>\n",
       "      <th>4</th>\n",
       "      <td>5</td>\n",
       "      <td>0</td>\n",
       "      <td>3</td>\n",
       "      <td>35.0</td>\n",
       "      <td>0</td>\n",
       "      <td>0</td>\n",
       "      <td>8.0500</td>\n",
       "      <td>1</td>\n",
       "    </tr>\n",
       "  </tbody>\n",
       "</table>\n",
       "</div>"
      ],
      "text/plain": [
       "   PassengerId  Survived  Pclass   Age  SibSp  Parch     Fare  Gender\n",
       "0            1         0       3  22.0      1      0   7.2500       1\n",
       "1            2         1       1  38.0      1      0  71.2833       0\n",
       "2            3         1       3  26.0      0      0   7.9250       0\n",
       "3            4         1       1  35.0      1      0  53.1000       0\n",
       "4            5         0       3  35.0      0      0   8.0500       1"
      ]
     },
     "execution_count": 30,
     "metadata": {},
     "output_type": "execute_result"
    }
   ],
   "source": [
    "# Verify Non-Numeric Columns were Removed from Titanic Data Frame\n",
    "titanic_data.head()"
   ]
  },
  {
   "cell_type": "markdown",
   "id": "velvet-bicycle",
   "metadata": {
    "papermill": {
     "duration": 0.056045,
     "end_time": "2021-06-03T19:18:58.941052",
     "exception": false,
     "start_time": "2021-06-03T19:18:58.885007",
     "status": "completed"
    },
    "tags": []
   },
   "source": [
    "Separate Dependent and Independent Variables"
   ]
  },
  {
   "cell_type": "code",
   "execution_count": 31,
   "id": "neutral-coaching",
   "metadata": {
    "execution": {
     "iopub.execute_input": "2021-06-03T19:18:59.068376Z",
     "iopub.status.busy": "2021-06-03T19:18:59.067286Z",
     "iopub.status.idle": "2021-06-03T19:18:59.071816Z",
     "shell.execute_reply": "2021-06-03T19:18:59.071298Z",
     "shell.execute_reply.started": "2021-06-03T18:40:07.747713Z"
    },
    "papermill": {
     "duration": 0.074513,
     "end_time": "2021-06-03T19:18:59.071954",
     "exception": false,
     "start_time": "2021-06-03T19:18:58.997441",
     "status": "completed"
    },
    "tags": []
   },
   "outputs": [],
   "source": [
    "# Setting Dependent Variables\n",
    "# List of Lists - these are the numeric parameters for possible survival\n",
    "# Setting Independent Variable to 'Survived' Column - that is the question we are asking\n",
    "dependent_var = titanic_data[['PassengerId', 'Pclass', 'Age', 'SibSp', 'Parch', 'Fare', 'Gender']]\n",
    "independent_var = titanic_data['Survived']"
   ]
  },
  {
   "cell_type": "code",
   "execution_count": 32,
   "id": "meaningful-bernard",
   "metadata": {
    "execution": {
     "iopub.execute_input": "2021-06-03T19:18:59.198879Z",
     "iopub.status.busy": "2021-06-03T19:18:59.198213Z",
     "iopub.status.idle": "2021-06-03T19:18:59.210220Z",
     "shell.execute_reply": "2021-06-03T19:18:59.209602Z",
     "shell.execute_reply.started": "2021-06-03T18:40:10.858624Z"
    },
    "papermill": {
     "duration": 0.080245,
     "end_time": "2021-06-03T19:18:59.210352",
     "exception": false,
     "start_time": "2021-06-03T19:18:59.130107",
     "status": "completed"
    },
    "tags": []
   },
   "outputs": [
    {
     "data": {
      "text/html": [
       "<div>\n",
       "<style scoped>\n",
       "    .dataframe tbody tr th:only-of-type {\n",
       "        vertical-align: middle;\n",
       "    }\n",
       "\n",
       "    .dataframe tbody tr th {\n",
       "        vertical-align: top;\n",
       "    }\n",
       "\n",
       "    .dataframe thead th {\n",
       "        text-align: right;\n",
       "    }\n",
       "</style>\n",
       "<table border=\"1\" class=\"dataframe\">\n",
       "  <thead>\n",
       "    <tr style=\"text-align: right;\">\n",
       "      <th></th>\n",
       "      <th>PassengerId</th>\n",
       "      <th>Pclass</th>\n",
       "      <th>Age</th>\n",
       "      <th>SibSp</th>\n",
       "      <th>Parch</th>\n",
       "      <th>Fare</th>\n",
       "      <th>Gender</th>\n",
       "    </tr>\n",
       "  </thead>\n",
       "  <tbody>\n",
       "    <tr>\n",
       "      <th>0</th>\n",
       "      <td>1</td>\n",
       "      <td>3</td>\n",
       "      <td>22.000000</td>\n",
       "      <td>1</td>\n",
       "      <td>0</td>\n",
       "      <td>7.2500</td>\n",
       "      <td>1</td>\n",
       "    </tr>\n",
       "    <tr>\n",
       "      <th>1</th>\n",
       "      <td>2</td>\n",
       "      <td>1</td>\n",
       "      <td>38.000000</td>\n",
       "      <td>1</td>\n",
       "      <td>0</td>\n",
       "      <td>71.2833</td>\n",
       "      <td>0</td>\n",
       "    </tr>\n",
       "    <tr>\n",
       "      <th>2</th>\n",
       "      <td>3</td>\n",
       "      <td>3</td>\n",
       "      <td>26.000000</td>\n",
       "      <td>0</td>\n",
       "      <td>0</td>\n",
       "      <td>7.9250</td>\n",
       "      <td>0</td>\n",
       "    </tr>\n",
       "    <tr>\n",
       "      <th>3</th>\n",
       "      <td>4</td>\n",
       "      <td>1</td>\n",
       "      <td>35.000000</td>\n",
       "      <td>1</td>\n",
       "      <td>0</td>\n",
       "      <td>53.1000</td>\n",
       "      <td>0</td>\n",
       "    </tr>\n",
       "    <tr>\n",
       "      <th>4</th>\n",
       "      <td>5</td>\n",
       "      <td>3</td>\n",
       "      <td>35.000000</td>\n",
       "      <td>0</td>\n",
       "      <td>0</td>\n",
       "      <td>8.0500</td>\n",
       "      <td>1</td>\n",
       "    </tr>\n",
       "    <tr>\n",
       "      <th>...</th>\n",
       "      <td>...</td>\n",
       "      <td>...</td>\n",
       "      <td>...</td>\n",
       "      <td>...</td>\n",
       "      <td>...</td>\n",
       "      <td>...</td>\n",
       "      <td>...</td>\n",
       "    </tr>\n",
       "    <tr>\n",
       "      <th>886</th>\n",
       "      <td>887</td>\n",
       "      <td>2</td>\n",
       "      <td>27.000000</td>\n",
       "      <td>0</td>\n",
       "      <td>0</td>\n",
       "      <td>13.0000</td>\n",
       "      <td>1</td>\n",
       "    </tr>\n",
       "    <tr>\n",
       "      <th>887</th>\n",
       "      <td>888</td>\n",
       "      <td>1</td>\n",
       "      <td>19.000000</td>\n",
       "      <td>0</td>\n",
       "      <td>0</td>\n",
       "      <td>30.0000</td>\n",
       "      <td>0</td>\n",
       "    </tr>\n",
       "    <tr>\n",
       "      <th>888</th>\n",
       "      <td>889</td>\n",
       "      <td>3</td>\n",
       "      <td>29.699118</td>\n",
       "      <td>1</td>\n",
       "      <td>2</td>\n",
       "      <td>23.4500</td>\n",
       "      <td>0</td>\n",
       "    </tr>\n",
       "    <tr>\n",
       "      <th>889</th>\n",
       "      <td>890</td>\n",
       "      <td>1</td>\n",
       "      <td>26.000000</td>\n",
       "      <td>0</td>\n",
       "      <td>0</td>\n",
       "      <td>30.0000</td>\n",
       "      <td>1</td>\n",
       "    </tr>\n",
       "    <tr>\n",
       "      <th>890</th>\n",
       "      <td>891</td>\n",
       "      <td>3</td>\n",
       "      <td>32.000000</td>\n",
       "      <td>0</td>\n",
       "      <td>0</td>\n",
       "      <td>7.7500</td>\n",
       "      <td>1</td>\n",
       "    </tr>\n",
       "  </tbody>\n",
       "</table>\n",
       "<p>891 rows × 7 columns</p>\n",
       "</div>"
      ],
      "text/plain": [
       "     PassengerId  Pclass        Age  SibSp  Parch     Fare  Gender\n",
       "0              1       3  22.000000      1      0   7.2500       1\n",
       "1              2       1  38.000000      1      0  71.2833       0\n",
       "2              3       3  26.000000      0      0   7.9250       0\n",
       "3              4       1  35.000000      1      0  53.1000       0\n",
       "4              5       3  35.000000      0      0   8.0500       1\n",
       "..           ...     ...        ...    ...    ...      ...     ...\n",
       "886          887       2  27.000000      0      0  13.0000       1\n",
       "887          888       1  19.000000      0      0  30.0000       0\n",
       "888          889       3  29.699118      1      2  23.4500       0\n",
       "889          890       1  26.000000      0      0  30.0000       1\n",
       "890          891       3  32.000000      0      0   7.7500       1\n",
       "\n",
       "[891 rows x 7 columns]"
      ]
     },
     "execution_count": 32,
     "metadata": {},
     "output_type": "execute_result"
    }
   ],
   "source": [
    "# Verify dependent_var\n",
    "dependent_var"
   ]
  },
  {
   "cell_type": "code",
   "execution_count": 33,
   "id": "changing-reputation",
   "metadata": {
    "execution": {
     "iopub.execute_input": "2021-06-03T19:18:59.329785Z",
     "iopub.status.busy": "2021-06-03T19:18:59.329021Z",
     "iopub.status.idle": "2021-06-03T19:18:59.332092Z",
     "shell.execute_reply": "2021-06-03T19:18:59.332524Z",
     "shell.execute_reply.started": "2021-06-03T18:40:21.030016Z"
    },
    "papermill": {
     "duration": 0.065906,
     "end_time": "2021-06-03T19:18:59.332714",
     "exception": false,
     "start_time": "2021-06-03T19:18:59.266808",
     "status": "completed"
    },
    "tags": []
   },
   "outputs": [
    {
     "data": {
      "text/plain": [
       "0      0\n",
       "1      1\n",
       "2      1\n",
       "3      1\n",
       "4      0\n",
       "      ..\n",
       "886    0\n",
       "887    1\n",
       "888    0\n",
       "889    1\n",
       "890    0\n",
       "Name: Survived, Length: 891, dtype: int64"
      ]
     },
     "execution_count": 33,
     "metadata": {},
     "output_type": "execute_result"
    }
   ],
   "source": [
    "# Verify independent_var\n",
    "independent_var"
   ]
  },
  {
   "cell_type": "markdown",
   "id": "coordinate-perception",
   "metadata": {
    "papermill": {
     "duration": 0.059071,
     "end_time": "2021-06-03T19:18:59.451538",
     "exception": false,
     "start_time": "2021-06-03T19:18:59.392467",
     "status": "completed"
    },
    "tags": []
   },
   "source": [
    "Data Import, Analysis, Wrangling, Cleaning - COMPLETE"
   ]
  },
  {
   "cell_type": "markdown",
   "id": "communist-tanzania",
   "metadata": {
    "papermill": {
     "duration": 0.057132,
     "end_time": "2021-06-03T19:18:59.567961",
     "exception": false,
     "start_time": "2021-06-03T19:18:59.510829",
     "status": "completed"
    },
    "tags": []
   },
   "source": [
    "**Data Modeling**"
   ]
  },
  {
   "cell_type": "markdown",
   "id": "micro-notice",
   "metadata": {
    "papermill": {
     "duration": 0.057316,
     "end_time": "2021-06-03T19:18:59.682255",
     "exception": false,
     "start_time": "2021-06-03T19:18:59.624939",
     "status": "completed"
    },
    "tags": []
   },
   "source": [
    "Building Model using Logistic Regression"
   ]
  },
  {
   "cell_type": "code",
   "execution_count": 34,
   "id": "sonic-university",
   "metadata": {
    "execution": {
     "iopub.execute_input": "2021-06-03T19:18:59.800986Z",
     "iopub.status.busy": "2021-06-03T19:18:59.800304Z",
     "iopub.status.idle": "2021-06-03T19:19:00.023559Z",
     "shell.execute_reply": "2021-06-03T19:19:00.022991Z",
     "shell.execute_reply.started": "2021-06-03T18:58:56.306976Z"
    },
    "papermill": {
     "duration": 0.284338,
     "end_time": "2021-06-03T19:19:00.023734",
     "exception": false,
     "start_time": "2021-06-03T19:18:59.739396",
     "status": "completed"
    },
    "tags": []
   },
   "outputs": [
    {
     "name": "stdout",
     "output_type": "stream",
     "text": [
      "Train Test Import Complete\n"
     ]
    }
   ],
   "source": [
    "# Import Train Test Split Method\n",
    "# Uses SciKit Learn\n",
    "from sklearn.model_selection import train_test_split\n",
    "print('Train Test Import Complete')"
   ]
  },
  {
   "cell_type": "code",
   "execution_count": 35,
   "id": "powered-plate",
   "metadata": {
    "execution": {
     "iopub.execute_input": "2021-06-03T19:19:00.149031Z",
     "iopub.status.busy": "2021-06-03T19:19:00.146027Z",
     "iopub.status.idle": "2021-06-03T19:19:00.152458Z",
     "shell.execute_reply": "2021-06-03T19:19:00.153242Z",
     "shell.execute_reply.started": "2021-06-03T18:57:17.733104Z"
    },
    "papermill": {
     "duration": 0.072286,
     "end_time": "2021-06-03T19:19:00.153485",
     "exception": false,
     "start_time": "2021-06-03T19:19:00.081199",
     "status": "completed"
    },
    "tags": []
   },
   "outputs": [
    {
     "name": "stdout",
     "output_type": "stream",
     "text": [
      "Training Complete\n"
     ]
    }
   ],
   "source": [
    "# Train Test Split\n",
    "# Use Shift+Tab to open Help\n",
    "# See Examples section\n",
    "# Copy and Paste from Example then Remove ... split so all on same line\n",
    "# Change depenent_var and independent_var based on variables assigned Line 35\n",
    "dependent_var_train, dependent_var_test, independent_var_train, independent_var_test = train_test_split(dependent_var, independent_var, test_size = 0.33, random_state = 42)\n",
    "print('Training Complete')"
   ]
  },
  {
   "cell_type": "code",
   "execution_count": 36,
   "id": "exact-constraint",
   "metadata": {
    "execution": {
     "iopub.execute_input": "2021-06-03T19:19:00.280915Z",
     "iopub.status.busy": "2021-06-03T19:19:00.280227Z",
     "iopub.status.idle": "2021-06-03T19:19:00.402537Z",
     "shell.execute_reply": "2021-06-03T19:19:00.401927Z",
     "shell.execute_reply.started": "2021-06-03T18:58:59.734101Z"
    },
    "papermill": {
     "duration": 0.187842,
     "end_time": "2021-06-03T19:19:00.402726",
     "exception": false,
     "start_time": "2021-06-03T19:19:00.214884",
     "status": "completed"
    },
    "tags": []
   },
   "outputs": [
    {
     "name": "stdout",
     "output_type": "stream",
     "text": [
      "Logistic Regression Import Complete\n"
     ]
    }
   ],
   "source": [
    "# Import Logistic Regression\n",
    "\n",
    "from sklearn.linear_model import LogisticRegression\n",
    "print('Logistic Regression Import Complete')"
   ]
  },
  {
   "cell_type": "code",
   "execution_count": 37,
   "id": "distant-holly",
   "metadata": {
    "execution": {
     "iopub.execute_input": "2021-06-03T19:19:00.532987Z",
     "iopub.status.busy": "2021-06-03T19:19:00.531877Z",
     "iopub.status.idle": "2021-06-03T19:19:00.578218Z",
     "shell.execute_reply": "2021-06-03T19:19:00.578710Z",
     "shell.execute_reply.started": "2021-06-03T19:05:12.362657Z"
    },
    "papermill": {
     "duration": 0.115486,
     "end_time": "2021-06-03T19:19:00.578918",
     "exception": false,
     "start_time": "2021-06-03T19:19:00.463432",
     "status": "completed"
    },
    "tags": []
   },
   "outputs": [
    {
     "name": "stderr",
     "output_type": "stream",
     "text": [
      "/opt/conda/lib/python3.7/site-packages/sklearn/linear_model/_logistic.py:765: ConvergenceWarning: lbfgs failed to converge (status=1):\n",
      "STOP: TOTAL NO. of ITERATIONS REACHED LIMIT.\n",
      "\n",
      "Increase the number of iterations (max_iter) or scale the data as shown in:\n",
      "    https://scikit-learn.org/stable/modules/preprocessing.html\n",
      "Please also refer to the documentation for alternative solver options:\n",
      "    https://scikit-learn.org/stable/modules/linear_model.html#logistic-regression\n",
      "  extra_warning_msg=_LOGISTIC_SOLVER_CONVERGENCE_MSG)\n"
     ]
    },
    {
     "data": {
      "text/plain": [
       "LogisticRegression()"
      ]
     },
     "execution_count": 37,
     "metadata": {},
     "output_type": "execute_result"
    }
   ],
   "source": [
    "# Fit Logistic Regression\n",
    "# Assign Variable 'lr' to Logistic Regression\n",
    "# Use _train Variables from Train Test Split - Line 42\n",
    "# Can Ignore Error Msg for Number of Iterations\n",
    "lr = LogisticRegression()\n",
    "lr.fit(dependent_var_train, independent_var_train)"
   ]
  },
  {
   "cell_type": "code",
   "execution_count": 38,
   "id": "conservative-wisconsin",
   "metadata": {
    "execution": {
     "iopub.execute_input": "2021-06-03T19:19:00.708139Z",
     "iopub.status.busy": "2021-06-03T19:19:00.707430Z",
     "iopub.status.idle": "2021-06-03T19:19:00.709990Z",
     "shell.execute_reply": "2021-06-03T19:19:00.710465Z",
     "shell.execute_reply.started": "2021-06-03T19:07:24.034527Z"
    },
    "papermill": {
     "duration": 0.071678,
     "end_time": "2021-06-03T19:19:00.710696",
     "exception": false,
     "start_time": "2021-06-03T19:19:00.639018",
     "status": "completed"
    },
    "tags": []
   },
   "outputs": [],
   "source": [
    "# Predict based on Logistic Regression\n",
    "# Use _test Dependent Variable from Train Test Split - Line 42\n",
    "predict = lr.predict(dependent_var_test)"
   ]
  },
  {
   "cell_type": "markdown",
   "id": "adaptive-footage",
   "metadata": {
    "papermill": {
     "duration": 0.05911,
     "end_time": "2021-06-03T19:19:00.830427",
     "exception": false,
     "start_time": "2021-06-03T19:19:00.771317",
     "status": "completed"
    },
    "tags": []
   },
   "source": [
    "Data Modeling - COMPLETE"
   ]
  },
  {
   "cell_type": "markdown",
   "id": "partial-camel",
   "metadata": {
    "papermill": {
     "duration": 0.060664,
     "end_time": "2021-06-03T19:19:00.950332",
     "exception": false,
     "start_time": "2021-06-03T19:19:00.889668",
     "status": "completed"
    },
    "tags": []
   },
   "source": [
    "**Test Model Performance**"
   ]
  },
  {
   "cell_type": "code",
   "execution_count": 39,
   "id": "equal-stamp",
   "metadata": {
    "execution": {
     "iopub.execute_input": "2021-06-03T19:19:01.075893Z",
     "iopub.status.busy": "2021-06-03T19:19:01.075243Z",
     "iopub.status.idle": "2021-06-03T19:19:01.081332Z",
     "shell.execute_reply": "2021-06-03T19:19:01.080585Z",
     "shell.execute_reply.started": "2021-06-03T19:09:12.329792Z"
    },
    "papermill": {
     "duration": 0.068271,
     "end_time": "2021-06-03T19:19:01.081531",
     "exception": false,
     "start_time": "2021-06-03T19:19:01.013260",
     "status": "completed"
    },
    "tags": []
   },
   "outputs": [
    {
     "name": "stdout",
     "output_type": "stream",
     "text": [
      "Confusion Matrix Import Complete\n"
     ]
    }
   ],
   "source": [
    "# Print Confusion Matrix using SciKit Learn\n",
    "from sklearn.metrics import confusion_matrix\n",
    "print('Confusion Matrix Import Complete')"
   ]
  },
  {
   "cell_type": "code",
   "execution_count": 40,
   "id": "impaired-crime",
   "metadata": {
    "execution": {
     "iopub.execute_input": "2021-06-03T19:19:01.207204Z",
     "iopub.status.busy": "2021-06-03T19:19:01.206544Z",
     "iopub.status.idle": "2021-06-03T19:19:01.217598Z",
     "shell.execute_reply": "2021-06-03T19:19:01.218183Z",
     "shell.execute_reply.started": "2021-06-03T19:12:03.101151Z"
    },
    "papermill": {
     "duration": 0.076472,
     "end_time": "2021-06-03T19:19:01.218360",
     "exception": false,
     "start_time": "2021-06-03T19:19:01.141888",
     "status": "completed"
    },
    "tags": []
   },
   "outputs": [
    {
     "data": {
      "text/html": [
       "<div>\n",
       "<style scoped>\n",
       "    .dataframe tbody tr th:only-of-type {\n",
       "        vertical-align: middle;\n",
       "    }\n",
       "\n",
       "    .dataframe tbody tr th {\n",
       "        vertical-align: top;\n",
       "    }\n",
       "\n",
       "    .dataframe thead th {\n",
       "        text-align: right;\n",
       "    }\n",
       "</style>\n",
       "<table border=\"1\" class=\"dataframe\">\n",
       "  <thead>\n",
       "    <tr style=\"text-align: right;\">\n",
       "      <th></th>\n",
       "      <th>Predicted No</th>\n",
       "      <th>Predicted Yes</th>\n",
       "    </tr>\n",
       "  </thead>\n",
       "  <tbody>\n",
       "    <tr>\n",
       "      <th>Actual No</th>\n",
       "      <td>152</td>\n",
       "      <td>23</td>\n",
       "    </tr>\n",
       "    <tr>\n",
       "      <th>Actual Yes</th>\n",
       "      <td>37</td>\n",
       "      <td>83</td>\n",
       "    </tr>\n",
       "  </tbody>\n",
       "</table>\n",
       "</div>"
      ],
      "text/plain": [
       "            Predicted No  Predicted Yes\n",
       "Actual No            152             23\n",
       "Actual Yes            37             83"
      ]
     },
     "execution_count": 40,
     "metadata": {},
     "output_type": "execute_result"
    }
   ],
   "source": [
    "# Creates new Pandas Data Frame for Confusion Matrix results\n",
    "# Uses independent_test Variable from Train Test Split and predict Variable from Logistic Regression\n",
    "# Prediction vs Actual\n",
    "pd.DataFrame(confusion_matrix(independent_var_test, predict), columns = ['Predicted No', 'Predicted Yes'], index = ['Actual No', 'Actual Yes'])"
   ]
  }
 ],
 "metadata": {
  "kernelspec": {
   "display_name": "Python 3",
   "language": "python",
   "name": "python3"
  },
  "language_info": {
   "codemirror_mode": {
    "name": "ipython",
    "version": 3
   },
   "file_extension": ".py",
   "mimetype": "text/x-python",
   "name": "python",
   "nbconvert_exporter": "python",
   "pygments_lexer": "ipython3",
   "version": "3.7.10"
  },
  "papermill": {
   "default_parameters": {},
   "duration": 19.968151,
   "end_time": "2021-06-03T19:19:02.636400",
   "environment_variables": {},
   "exception": null,
   "input_path": "__notebook__.ipynb",
   "output_path": "__notebook__.ipynb",
   "parameters": {},
   "start_time": "2021-06-03T19:18:42.668249",
   "version": "2.3.3"
  }
 },
 "nbformat": 4,
 "nbformat_minor": 5
}
